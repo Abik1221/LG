{
 "cells": [
  {
   "cell_type": "code",
   "execution_count": null,
   "id": "94d33fe6",
   "metadata": {},
   "outputs": [],
   "source": [
    "import os"
   ]
  }
 ],
 "metadata": {
  "language_info": {
   "name": "python"
  }
 },
 "nbformat": 4,
 "nbformat_minor": 5
}
