{
 "cells": [
  {
   "cell_type": "markdown",
   "id": "354d8ee7",
   "metadata": {},
   "source": [
    "# Optional, TypeDict and Union python"
   ]
  },
  {
   "cell_type": "code",
   "execution_count": 1,
   "id": "534e5793",
   "metadata": {},
   "outputs": [
    {
     "name": "stdout",
     "output_type": "stream",
     "text": [
      "hellow world\n"
     ]
    }
   ],
   "source": [
    "print(\"hellow world\")"
   ]
  },
  {
   "cell_type": "code",
   "execution_count": 16,
   "id": "89d110b7",
   "metadata": {},
   "outputs": [],
   "source": [
    "from typing import TypedDict, Union, Optional"
   ]
  },
  {
   "cell_type": "code",
   "execution_count": 17,
   "id": "5f582753",
   "metadata": {},
   "outputs": [],
   "source": [
    "class Miovie(TypedDict):\n",
    "    name: str\n",
    "    age: int"
   ]
  },
  {
   "cell_type": "code",
   "execution_count": 18,
   "id": "a8502431",
   "metadata": {},
   "outputs": [],
   "source": [
    "movie= Miovie(name=\"nahom Keneni\", age=21)"
   ]
  },
  {
   "cell_type": "code",
   "execution_count": 19,
   "id": "177bf374",
   "metadata": {},
   "outputs": [],
   "source": [
    "def square(x: Union[int, float]) -> Union[int,float]:\n",
    "    return x * x"
   ]
  },
  {
   "cell_type": "code",
   "execution_count": 20,
   "id": "7747a4fd",
   "metadata": {},
   "outputs": [],
   "source": [
    "y = square(x=3.5)"
   ]
  },
  {
   "cell_type": "code",
   "execution_count": 21,
   "id": "bf845a0f",
   "metadata": {},
   "outputs": [
    {
     "data": {
      "text/plain": [
       "12.25"
      ]
     },
     "execution_count": 21,
     "metadata": {},
     "output_type": "execute_result"
    }
   ],
   "source": [
    "y"
   ]
  },
  {
   "cell_type": "code",
   "execution_count": null,
   "id": "590a13cd",
   "metadata": {},
   "outputs": [
    {
     "ename": "",
     "evalue": "",
     "output_type": "error",
     "traceback": [
      "\u001b[1;31mThe Kernel crashed while executing code in the current cell or a previous cell. \n",
      "\u001b[1;31mPlease review the code in the cell(s) to identify a possible cause of the failure. \n",
      "\u001b[1;31mClick <a href='https://aka.ms/vscodeJupyterKernelCrash'>here</a> for more info. \n",
      "\u001b[1;31mView Jupyter <a href='command:jupyter.viewOutput'>log</a> for further details."
     ]
    }
   ],
   "source": [
    "def square(x: Optional[Union[int, float]] = None) -> Optional[Union[int,float]]:\n",
    "    if x is None:\n",
    "        return None\n",
    "    return x * x"
   ]
  },
  {
   "cell_type": "code",
   "execution_count": null,
   "id": "13010952",
   "metadata": {},
   "outputs": [],
   "source": []
  }
 ],
 "metadata": {
  "kernelspec": {
   "display_name": "base",
   "language": "python",
   "name": "python3"
  },
  "language_info": {
   "codemirror_mode": {
    "name": "ipython",
    "version": 3
   },
   "file_extension": ".py",
   "mimetype": "text/x-python",
   "name": "python",
   "nbconvert_exporter": "python",
   "pygments_lexer": "ipython3",
   "version": "3.12.7"
  }
 },
 "nbformat": 4,
 "nbformat_minor": 5
}
