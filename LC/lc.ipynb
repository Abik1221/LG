{
 "cells": [
  {
   "cell_type": "code",
   "execution_count": null,
   "id": "d7b4bdfd",
   "metadata": {},
   "outputs": [],
   "source": [
    "import os"
   ]
  }
 ],
 "metadata": {
  "language_info": {
   "name": "python"
  }
 },
 "nbformat": 4,
 "nbformat_minor": 5
}
